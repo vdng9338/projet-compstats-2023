{
 "cells": [
  {
   "cell_type": "code",
   "execution_count": 1,
   "metadata": {},
   "outputs": [],
   "source": [
    "import torch\n",
    "from torch_geometric import datasets\n",
    "from torch_geometric.transforms import RandomLinkSplit\n",
    "from torch_geometric.data import Data\n",
    "from torch_geometric.loader import DataLoader \n",
    "\n",
    "from models import VGAE\n",
    "\n",
    "%load_ext autoreload\n"
   ]
  },
  {
   "cell_type": "code",
   "execution_count": 2,
   "metadata": {},
   "outputs": [],
   "source": [
    "%autoreload 2"
   ]
  },
  {
   "cell_type": "code",
   "execution_count": 3,
   "metadata": {},
   "outputs": [],
   "source": [
    "device = torch.device('cuda' if torch.cuda.is_available() else 'cpu')\n",
    "dataset = datasets.Planetoid(root='/__data/Cora', name='Cora', split='public')"
   ]
  },
  {
   "cell_type": "code",
   "execution_count": 6,
   "metadata": {},
   "outputs": [
    {
     "data": {
      "text/plain": [
       "Data(x=[2708, 1433], edge_index=[2, 10556], y=[2708], train_mask=[2708], val_mask=[2708], test_mask=[2708])"
      ]
     },
     "execution_count": 6,
     "metadata": {},
     "output_type": "execute_result"
    }
   ],
   "source": [
    "dataset[0]"
   ]
  },
  {
   "cell_type": "code",
   "execution_count": 4,
   "metadata": {},
   "outputs": [],
   "source": [
    "transform = RandomLinkSplit(num_val=0.05, num_test=0.1, is_undirected=True, split_labels=False, add_negative_train_samples=True)"
   ]
  },
  {
   "cell_type": "code",
   "execution_count": 5,
   "metadata": {},
   "outputs": [],
   "source": [
    "train_data, val_data, test_data = transform(dataset[0])"
   ]
  },
  {
   "cell_type": "code",
   "execution_count": 6,
   "metadata": {},
   "outputs": [
    {
     "name": "stdout",
     "output_type": "stream",
     "text": [
      "train data Data(x=[2708, 1433], edge_index=[2, 8976], y=[2708], train_mask=[2708], val_mask=[2708], test_mask=[2708], edge_label=[8976], edge_label_index=[2, 8976])\n",
      "val data Data(x=[2708, 1433], edge_index=[2, 8976], y=[2708], train_mask=[2708], val_mask=[2708], test_mask=[2708], edge_label=[526], edge_label_index=[2, 526])\n",
      "test data Data(x=[2708, 1433], edge_index=[2, 9502], y=[2708], train_mask=[2708], val_mask=[2708], test_mask=[2708], edge_label=[1054], edge_label_index=[2, 1054])\n"
     ]
    }
   ],
   "source": [
    "print('train data', train_data)\n",
    "print('val data', val_data)\n",
    "print('test data', test_data)\n",
    "\n",
    "dataset[0].edge_index.shape[1] == train_data.edge_label_index.size(1) + val_data.edge_label_index.size(1)  + test_data.edge_label_index.size(1) "
   ]
  },
  {
   "cell_type": "code",
   "execution_count": 10,
   "metadata": {},
   "outputs": [
    {
     "data": {
      "text/plain": [
       "True"
      ]
     },
     "execution_count": 10,
     "metadata": {},
     "output_type": "execute_result"
    }
   ],
   "source": []
  },
  {
   "cell_type": "code",
   "execution_count": 7,
   "metadata": {},
   "outputs": [
    {
     "name": "stdout",
     "output_type": "stream",
     "text": [
      "input dim 1433\n"
     ]
    }
   ],
   "source": [
    "feature_dim = dataset[0].x.shape[1]\n",
    "print('input dim', feature_dim)"
   ]
  },
  {
   "cell_type": "code",
   "execution_count": 14,
   "metadata": {},
   "outputs": [
    {
     "name": "stdout",
     "output_type": "stream",
     "text": [
      "out torch.Size([2708, 2708])\n",
      "mus torch.Size([2708, 16])\n",
      "logsigmas2s torch.Size([2708, 16])\n"
     ]
    }
   ],
   "source": [
    "# check forward pass\n",
    "n_vgae = VGAE(input_dim=feature_dim, latent_dim=16, dropout=0.0, latent_distr='normal').to(device)\n",
    "\n",
    "out_n_vgae, mus_n_vgae, logsigmas2s_n_vgae  = n_vgae(val_data.x.to(device), val_data.edge_label_index.to(device))\n",
    "print('out', out_n_vgae.shape)\n",
    "print('mus', mus_n_vgae.shape)\n",
    "print('logsigmas2s', logsigmas2s_n_vgae.shape)"
   ]
  },
  {
   "cell_type": "code",
   "execution_count": 13,
   "metadata": {},
   "outputs": [
    {
     "name": "stdout",
     "output_type": "stream",
     "text": [
      "HKHKKH\n",
      "Z torch.Size([2708, 16])\n",
      "tensor([[-0.0847, -0.1055, -0.2225,  ...,  0.2481,  0.1600, -0.2919],\n",
      "        [ 0.2687, -0.3662,  0.0672,  ..., -0.4139, -0.2646,  0.0187],\n",
      "        [-0.1024,  0.1328,  0.3487,  ..., -0.0356,  0.0399, -0.2639],\n",
      "        ...,\n",
      "        [-0.3298, -0.1644, -0.0432,  ..., -0.0693, -0.7771, -0.0525],\n",
      "        [ 0.1257, -0.0194, -0.4285,  ...,  0.3678, -0.2338,  0.0298],\n",
      "        [ 0.1344, -0.1018,  0.2154,  ..., -0.2153,  0.5185, -0.0746]],\n",
      "       dtype=torch.float64, grad_fn=<StackBackward0>)\n",
      "out torch.Size([2708, 2708])\n",
      "mus torch.Size([2708, 16])\n",
      "logsigmas2s torch.Size([2708, 1])\n"
     ]
    }
   ],
   "source": [
    "s_vgae = VGAE(input_dim=feature_dim, latent_dim=16, dropout=0.0, latent_distr='vMF').to(device)\n",
    "\n",
    "out_s_vgae, mus_s_vgae, logsigmas2s_s_vgae  = s_vgae(val_data.x.to(device), val_data.edge_label_index.to(device))\n",
    "print('out', out_s_vgae.shape)\n",
    "print('mus', mus_s_vgae.shape)\n",
    "print('logsigmas2s', logsigmas2s_s_vgae.shape)"
   ]
  },
  {
   "cell_type": "code",
   "execution_count": 11,
   "metadata": {},
   "outputs": [
    {
     "data": {
      "text/plain": [
       "torch.Size([3])"
      ]
     },
     "execution_count": 11,
     "metadata": {},
     "output_type": "execute_result"
    }
   ],
   "source": [
    "t = torch.ones(1, 3)\n",
    "torch.squeeze(t).shape"
   ]
  },
  {
   "cell_type": "code",
   "execution_count": 29,
   "metadata": {},
   "outputs": [
    {
     "name": "stdout",
     "output_type": "stream",
     "text": [
      "[0.50104177]\n"
     ]
    },
    {
     "data": {
      "text/plain": [
       "tensor([-0.0021, -0.7153, -0.7786], grad_fn=<DivBackward0>)"
      ]
     },
     "execution_count": 29,
     "metadata": {},
     "output_type": "execute_result"
    }
   ],
   "source": [
    "from scipy.stats import beta\n",
    "b = torch.tensor([1., 6., 8.], requires_grad=True)\n",
    "eps = beta.rvs((16 -1)/2, (16 -1)/2, size=1)\n",
    "print(eps)\n",
    "(1 - (1+b)*eps[0]) / (1 - (1-b)*eps[0])\n"
   ]
  }
 ],
 "metadata": {
  "kernelspec": {
   "display_name": ".venv",
   "language": "python",
   "name": "python3"
  },
  "language_info": {
   "codemirror_mode": {
    "name": "ipython",
    "version": 3
   },
   "file_extension": ".py",
   "mimetype": "text/x-python",
   "name": "python",
   "nbconvert_exporter": "python",
   "pygments_lexer": "ipython3",
   "version": "3.10.0"
  }
 },
 "nbformat": 4,
 "nbformat_minor": 2
}
