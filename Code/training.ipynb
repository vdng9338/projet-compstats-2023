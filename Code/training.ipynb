{
 "cells": [
  {
   "cell_type": "code",
   "execution_count": 1,
   "metadata": {},
   "outputs": [],
   "source": [
    "import torch\n",
    "from torch_geometric import datasets\n",
    "from torch_geometric.transforms import RandomLinkSplit\n",
    "from torch_geometric.utils import negative_sampling\n",
    "from torch_geometric.data import Data\n",
    "from torch_geometric.loader import DataLoader \n",
    "import matplotlib.pyplot as plt\n",
    "from tqdm import tqdm\n",
    "\n",
    "from losses import kl_div_vmf, normal_kl_div, reconstruction_loss, normal_reconstruction_loss\n",
    "from train_utils import get_edge_probs\n",
    "from models import VGAE\n",
    "from sklearn.metrics import roc_auc_score, average_precision_score"
   ]
  },
  {
   "cell_type": "code",
   "execution_count": 2,
   "metadata": {},
   "outputs": [],
   "source": [
    "%load_ext autoreload\n",
    "%autoreload 2"
   ]
  },
  {
   "cell_type": "code",
   "execution_count": 3,
   "metadata": {},
   "outputs": [],
   "source": [
    "device = torch.device('cuda' if torch.cuda.is_available() else 'cpu')\n",
    "dataset = datasets.Planetoid(root='__data/Cora', name='Cora', split='public')"
   ]
  },
  {
   "cell_type": "code",
   "execution_count": 4,
   "metadata": {},
   "outputs": [
    {
     "data": {
      "text/plain": [
       "Data(x=[2708, 1433], edge_index=[2, 10556], y=[2708], train_mask=[2708], val_mask=[2708], test_mask=[2708])"
      ]
     },
     "execution_count": 4,
     "metadata": {},
     "output_type": "execute_result"
    }
   ],
   "source": [
    "dataset[0]"
   ]
  },
  {
   "cell_type": "code",
   "execution_count": 5,
   "metadata": {},
   "outputs": [],
   "source": [
    "transform = RandomLinkSplit(num_val=0.05, num_test=0.1, is_undirected=True, split_labels=True, add_negative_train_samples=False) # because we perform negative sampling at each epoch ourselves"
   ]
  },
  {
   "cell_type": "code",
   "execution_count": 6,
   "metadata": {},
   "outputs": [],
   "source": [
    "train_data, val_data, test_data = transform(dataset[0])"
   ]
  },
  {
   "cell_type": "code",
   "execution_count": 7,
   "metadata": {},
   "outputs": [
    {
     "name": "stdout",
     "output_type": "stream",
     "text": [
      "train data Data(x=[2708, 1433], edge_index=[2, 8976], y=[2708], train_mask=[2708], val_mask=[2708], test_mask=[2708], pos_edge_label=[4488], pos_edge_label_index=[2, 4488])\n",
      "val data Data(x=[2708, 1433], edge_index=[2, 8976], y=[2708], train_mask=[2708], val_mask=[2708], test_mask=[2708], pos_edge_label=[263], pos_edge_label_index=[2, 263], neg_edge_label=[263], neg_edge_label_index=[2, 263])\n",
      "test data Data(x=[2708, 1433], edge_index=[2, 9502], y=[2708], train_mask=[2708], val_mask=[2708], test_mask=[2708], pos_edge_label=[527], pos_edge_label_index=[2, 527], neg_edge_label=[527], neg_edge_label_index=[2, 527])\n",
      "10556\n",
      "10556\n"
     ]
    }
   ],
   "source": [
    "print('train data', train_data)\n",
    "print('val data', val_data)\n",
    "print('test data', test_data)\n",
    "\n",
    "print(dataset[0].edge_index.shape[1])\n",
    "print(train_data.pos_edge_label.size(0)*2 + val_data.pos_edge_label.size(0) + val_data.neg_edge_label.size(0) + test_data.pos_edge_label.size(0) + test_data.neg_edge_label.size(0))"
   ]
  },
  {
   "cell_type": "code",
   "execution_count": 9,
   "metadata": {},
   "outputs": [],
   "source": [
    "# train_data['neg_edge_label_index'] = negative_sampling(train_data.pos_edge_label_index)"
   ]
  },
  {
   "cell_type": "code",
   "execution_count": 10,
   "metadata": {},
   "outputs": [
    {
     "name": "stdout",
     "output_type": "stream",
     "text": [
      "input dim 1433\n"
     ]
    }
   ],
   "source": [
    "feature_dim = dataset[0].x.shape[1]\n",
    "print('input dim', feature_dim)"
   ]
  },
  {
   "cell_type": "markdown",
   "metadata": {},
   "source": [
    "## Check model forward pass"
   ]
  },
  {
   "cell_type": "code",
   "execution_count": 11,
   "metadata": {},
   "outputs": [
    {
     "data": {
      "text/plain": [
       "torch.Size([2, 526])"
      ]
     },
     "execution_count": 11,
     "metadata": {},
     "output_type": "execute_result"
    }
   ],
   "source": [
    "val_edge_label_index = torch.cat([val_data.pos_edge_label_index, val_data.neg_edge_label_index], dim=1)\n",
    "val_edge_label_index.shape"
   ]
  },
  {
   "cell_type": "code",
   "execution_count": 12,
   "metadata": {},
   "outputs": [
    {
     "name": "stdout",
     "output_type": "stream",
     "text": [
      "out torch.Size([2708, 2708])\n",
      "mus torch.Size([2708, 16])\n",
      "logsigmas2s torch.Size([2708, 16])\n",
      "edge probs True\n"
     ]
    }
   ],
   "source": [
    "n_vgae = VGAE(input_dim=feature_dim, latent_dim=16, dropout=0.0, latent_distr='normal').to(device)\n",
    "\n",
    "out_n_vgae, mus_n_vgae, logsigmas2s_n_vgae  = n_vgae(val_data.x.to(device), val_edge_label_index.to(device))\n",
    "print('out', out_n_vgae.shape)\n",
    "print('mus', mus_n_vgae.shape)\n",
    "print('logsigmas2s', logsigmas2s_n_vgae.shape)\n",
    "labs, edge_probs = get_edge_probs(out_n_vgae, val_data.pos_edge_label_index, val_data.neg_edge_label_index)\n",
    "print('edge probs', len(edge_probs)==len(labs))"
   ]
  },
  {
   "cell_type": "code",
   "execution_count": 13,
   "metadata": {},
   "outputs": [
    {
     "name": "stdout",
     "output_type": "stream",
     "text": [
      "out torch.Size([2708, 2708])\n",
      "mus torch.Size([2708, 16])\n",
      "kappas torch.Size([2708])\n",
      "ws torch.Size([2708])\n",
      "epss torch.Size([2708])\n",
      "bs torch.Size([2708])\n",
      "edge probs True\n"
     ]
    }
   ],
   "source": [
    "s_vgae = VGAE(input_dim=feature_dim, latent_dim=16, dropout=0.0, latent_distr='vMF').to(device)\n",
    "\n",
    "\n",
    "out_s_vgae, mus_s_vgae, kappas_s_vgae, ws, epss, bs  = s_vgae(val_data.x.to(device), val_edge_label_index.to(device))\n",
    "print('out', out_s_vgae.shape)\n",
    "print('mus', mus_s_vgae.shape)\n",
    "print('kappas', kappas_s_vgae.shape)\n",
    "print('ws', ws.shape)\n",
    "print('epss', epss.shape)\n",
    "print('bs', bs.shape)\n",
    "labs, edge_probs = get_edge_probs(out_n_vgae, val_data.pos_edge_label_index, val_data.neg_edge_label_index)\n",
    "print('edge probs', len(edge_probs)==len(labs))"
   ]
  },
  {
   "cell_type": "markdown",
   "metadata": {},
   "source": [
    "## Train $\\mathcal{N}$-VGAE"
   ]
  },
  {
   "cell_type": "code",
   "execution_count": 14,
   "metadata": {},
   "outputs": [],
   "source": [
    "n_vgae = VGAE(input_dim=feature_dim, latent_dim=16, dropout=0.0, latent_distr='normal').to(device)\n",
    "num_epochs = 200\n",
    "lr = 0.01\n",
    "optimizer = torch.optim.Adam(n_vgae.parameters(), lr=lr)"
   ]
  },
  {
   "cell_type": "code",
   "execution_count": 15,
   "metadata": {},
   "outputs": [
    {
     "name": "stdout",
     "output_type": "stream",
     "text": [
      "Epoch:   0, VAL AUC: 0.5110\n",
      "Epoch   0, TRAIN LOSS: 30712.0449\n",
      "Epoch:  10, VAL AUC: 0.7078\n",
      "Epoch  10, TRAIN LOSS: 11640.8535\n",
      "Epoch:  20, VAL AUC: 0.8585\n",
      "Epoch  20, TRAIN LOSS: 8938.9688\n",
      "Epoch:  30, VAL AUC: 0.8732\n",
      "Epoch  30, TRAIN LOSS: 8285.2227\n",
      "Epoch:  40, VAL AUC: 0.8765\n",
      "Epoch  40, TRAIN LOSS: 7928.5112\n",
      "Epoch:  50, VAL AUC: 0.8861\n",
      "Epoch  50, TRAIN LOSS: 7741.3809\n",
      "Epoch:  60, VAL AUC: 0.8849\n",
      "Epoch  60, TRAIN LOSS: 7747.2412\n",
      "Epoch:  70, VAL AUC: 0.8865\n",
      "Epoch  70, TRAIN LOSS: 7624.2744\n",
      "Epoch:  80, VAL AUC: 0.8866\n",
      "Epoch  80, TRAIN LOSS: 7511.6523\n",
      "Epoch:  90, VAL AUC: 0.8912\n",
      "Epoch  90, TRAIN LOSS: 7523.8398\n",
      "Epoch: 100, VAL AUC: 0.8849\n",
      "Epoch 100, TRAIN LOSS: 7559.3882\n",
      "Epoch: 110, VAL AUC: 0.9005\n",
      "Epoch 110, TRAIN LOSS: 7464.2090\n",
      "Epoch: 120, VAL AUC: 0.8943\n",
      "Epoch 120, TRAIN LOSS: 7525.4487\n",
      "Epoch: 130, VAL AUC: 0.8956\n",
      "Epoch 130, TRAIN LOSS: 7434.8887\n",
      "Epoch: 140, VAL AUC: 0.8931\n",
      "Epoch 140, TRAIN LOSS: 7336.9067\n",
      "Epoch: 150, VAL AUC: 0.8849\n",
      "Epoch 150, TRAIN LOSS: 7445.2637\n",
      "Epoch: 160, VAL AUC: 0.8860\n",
      "Epoch 160, TRAIN LOSS: 7365.0581\n",
      "Epoch: 170, VAL AUC: 0.8887\n",
      "Epoch 170, TRAIN LOSS: 7364.6792\n",
      "Epoch: 180, VAL AUC: 0.8862\n",
      "Epoch 180, TRAIN LOSS: 7359.3589\n",
      "Epoch: 190, VAL AUC: 0.8910\n",
      "Epoch 190, TRAIN LOSS: 7306.7646\n"
     ]
    }
   ],
   "source": [
    "log_loss = {'train': [] }\n",
    "log_metrics = {'val_auc' : [],\n",
    "               'val_ap' : []}\n",
    "#val_edge_label_index = torch.cat([val_data.pos_edge_label_index, val_data.neg_edge_label_index], dim=1)\n",
    "\n",
    "for epoch in range(num_epochs):\n",
    "\n",
    "    # negative sampling \n",
    "    train_neg_edge_index = negative_sampling(train_data.edge_index, force_undirected=True)\n",
    "    #train_data['edge_label_index'] = torch.cat([train_data.pos_edge_label_index, train_neg_edge_index], dim=1)\n",
    "    \n",
    "    optimizer.zero_grad()\n",
    "    output, mus, logsigma2s = n_vgae(train_data.x.to(device), train_data.edge_index.to(device) )\n",
    "    loss = normal_reconstruction_loss(output, train_data.edge_index, train_neg_edge_index) + .0*normal_kl_div(logsigma2s, mus) \n",
    "    \n",
    "    loss.backward()\n",
    "\n",
    "    optimizer.step()\n",
    "\n",
    "    with torch.no_grad():\n",
    "        #print('neg sampling ?', train_data.edge_label_index[-10:])\n",
    "        if epoch % 5 == 0:\n",
    "            #out_val, mus_val, logsigma2s_val = n_vgae(val_data.x.to(device), val_edge_label_index.to(device))\n",
    "            val_labs, edge_probs_val = get_edge_probs(output, val_data.pos_edge_label_index, val_data.neg_edge_label_index)\n",
    "            log_metrics['val_auc'].append(roc_auc_score(val_labs, edge_probs_val))\n",
    "            log_metrics['val_ap'].append(average_precision_score(val_labs, edge_probs_val))\n",
    "            log_loss['train'].append(loss.item())\n",
    "        \n",
    "\n",
    "        if epoch % 10 == 0:\n",
    "            print('Epoch: {:3d}, VAL AUC: {:.4f}'.format(epoch, log_metrics['val_auc'][-1]))\n",
    "            print(f'Epoch {epoch:3d}, TRAIN LOSS: {loss.item():.4f}')\n"
   ]
  },
  {
   "cell_type": "markdown",
   "metadata": {},
   "source": [
    "### Plot curves"
   ]
  },
  {
   "cell_type": "code",
   "execution_count": 16,
   "metadata": {},
   "outputs": [],
   "source": [
    "def plot_curves(log_loss):\n",
    "    fig, ax = plt.subplots()\n",
    "\n",
    "    ax.plot(log_loss['train'], label='train')\n",
    "    ax.set_xlabel('Epoch')\n",
    "    ax.set_ylabel('Loss')\n",
    "    ax.legend()\n",
    "    ax.set_title('Learning curves')\n",
    "\n",
    "    plt.show()  \n",
    "    "
   ]
  },
  {
   "cell_type": "code",
   "execution_count": 17,
   "metadata": {},
   "outputs": [
    {
     "data": {
      "image/png": "[encoded data removed]",
      "text/plain": [
       "<Figure size 640x480 with 1 Axes>"
      ]
     },
     "metadata": {},
     "output_type": "display_data"
    }
   ],
   "source": [
    "plot_curves(log_loss)"
   ]
  },
  {
   "cell_type": "markdown",
   "metadata": {},
   "source": [
    "## Train $\\mathcal{S}$-VGAE"
   ]
  },
  {
   "cell_type": "code",
   "execution_count": 20,
   "metadata": {},
   "outputs": [],
   "source": [
    "s_vgae = VGAE(input_dim=feature_dim, latent_dim=16, dropout=0.0, latent_distr='vMF').to(device)\n",
    "num_epochs = 200\n",
    "lr = 0.01\n",
    "optimizer = torch.optim.Adam(s_vgae.parameters(), lr=lr)"
   ]
  },
  {
   "cell_type": "code",
   "execution_count": 21,
   "metadata": {},
   "outputs": [
    {
     "name": "stdout",
     "output_type": "stream",
     "text": [
      "tensor(14283.6084, grad_fn=<AddBackward0>)\n",
      "Epoch:   0, VAL AUC: 0.4779\n",
      "Epoch   0, TRAIN LOSS: 14283.6084\n",
      "tensor(13866.8848, grad_fn=<AddBackward0>)\n",
      "tensor(13563.1689, grad_fn=<AddBackward0>)\n",
      "tensor(13345.0137, grad_fn=<AddBackward0>)\n",
      "tensor(13187.7422, grad_fn=<AddBackward0>)\n",
      "tensor(13234.7383, grad_fn=<AddBackward0>)\n",
      "tensor(13316.9512, grad_fn=<AddBackward0>)\n",
      "tensor(13249.2773, grad_fn=<AddBackward0>)\n",
      "tensor(13255.1670, grad_fn=<AddBackward0>)\n",
      "tensor(13162.8789, grad_fn=<AddBackward0>)\n",
      "tensor(13269.2256, grad_fn=<AddBackward0>)\n",
      "Epoch:  10, VAL AUC: 0.5072\n",
      "Epoch  10, TRAIN LOSS: 13269.2256\n",
      "tensor(13124.5215, grad_fn=<AddBackward0>)\n",
      "tensor(13281.2812, grad_fn=<AddBackward0>)\n",
      "tensor(13137.4043, grad_fn=<AddBackward0>)\n",
      "tensor(13267.1035, grad_fn=<AddBackward0>)\n",
      "tensor(13439.5400, grad_fn=<AddBackward0>)\n",
      "tensor(13267.3926, grad_fn=<AddBackward0>)\n",
      "tensor(13239.5508, grad_fn=<AddBackward0>)\n",
      "tensor(13168.9561, grad_fn=<AddBackward0>)\n",
      "tensor(13196.6914, grad_fn=<AddBackward0>)\n",
      "tensor(13109.9297, grad_fn=<AddBackward0>)\n",
      "Epoch:  20, VAL AUC: 0.4699\n",
      "Epoch  20, TRAIN LOSS: 13109.9297\n",
      "tensor(inf, grad_fn=<AddBackward0>)\n",
      "tensor(inf, grad_fn=<AddBackward0>)\n",
      "tensor(inf, grad_fn=<AddBackward0>)\n",
      "tensor(inf, grad_fn=<AddBackward0>)\n",
      "tensor(inf, grad_fn=<AddBackward0>)\n",
      "tensor(inf, grad_fn=<AddBackward0>)\n",
      "tensor(inf, grad_fn=<AddBackward0>)\n",
      "tensor(inf, grad_fn=<AddBackward0>)\n",
      "tensor(inf, grad_fn=<AddBackward0>)\n",
      "tensor(inf, grad_fn=<AddBackward0>)\n"
     ]
    },
    {
     "ename": "KeyboardInterrupt",
     "evalue": "",
     "output_type": "error",
     "traceback": [
      "\u001b[0;31m---------------------------------------------------------------------------\u001b[0m",
      "\u001b[0;31mKeyboardInterrupt\u001b[0m                         Traceback (most recent call last)",
      "Cell \u001b[0;32mIn[21], line 21\u001b[0m\n\u001b[1;32m     18\u001b[0m loss \u001b[38;5;241m=\u001b[39m reconstruction_loss(output, train_data\u001b[38;5;241m.\u001b[39medge_index, train_neg_edge_index, ws, kappas, bs, epss, mus\u001b[38;5;241m.\u001b[39mshape[\u001b[38;5;241m1\u001b[39m]) \u001b[38;5;241m+\u001b[39m kl(kappas, mus) \n\u001b[1;32m     19\u001b[0m \u001b[38;5;28mprint\u001b[39m(loss)\n\u001b[0;32m---> 21\u001b[0m \u001b[43mloss\u001b[49m\u001b[38;5;241;43m.\u001b[39;49m\u001b[43mbackward\u001b[49m\u001b[43m(\u001b[49m\u001b[43m)\u001b[49m\n\u001b[1;32m     23\u001b[0m optimizer\u001b[38;5;241m.\u001b[39mstep()\n\u001b[1;32m     25\u001b[0m \u001b[38;5;28;01mwith\u001b[39;00m torch\u001b[38;5;241m.\u001b[39mno_grad():\n\u001b[1;32m     26\u001b[0m     \u001b[38;5;66;03m#print('neg sampling ?', train_data.edge_label_index[-10:])\u001b[39;00m\n\u001b[1;32m     27\u001b[0m     \u001b[38;5;66;03m#out_val, mus_val, logkappas_val, _, _, _ = s_vgae(val_data.x.to(device), val_edge_label_index.to(device))\u001b[39;00m\n",
      "File \u001b[0;32m~/python-venvs/mva/lib/python3.10/site-packages/torch/_tensor.py:492\u001b[0m, in \u001b[0;36mTensor.backward\u001b[0;34m(self, gradient, retain_graph, create_graph, inputs)\u001b[0m\n\u001b[1;32m    482\u001b[0m \u001b[38;5;28;01mif\u001b[39;00m has_torch_function_unary(\u001b[38;5;28mself\u001b[39m):\n\u001b[1;32m    483\u001b[0m     \u001b[38;5;28;01mreturn\u001b[39;00m handle_torch_function(\n\u001b[1;32m    484\u001b[0m         Tensor\u001b[38;5;241m.\u001b[39mbackward,\n\u001b[1;32m    485\u001b[0m         (\u001b[38;5;28mself\u001b[39m,),\n\u001b[0;32m   (...)\u001b[0m\n\u001b[1;32m    490\u001b[0m         inputs\u001b[38;5;241m=\u001b[39minputs,\n\u001b[1;32m    491\u001b[0m     )\n\u001b[0;32m--> 492\u001b[0m \u001b[43mtorch\u001b[49m\u001b[38;5;241;43m.\u001b[39;49m\u001b[43mautograd\u001b[49m\u001b[38;5;241;43m.\u001b[39;49m\u001b[43mbackward\u001b[49m\u001b[43m(\u001b[49m\n\u001b[1;32m    493\u001b[0m \u001b[43m    \u001b[49m\u001b[38;5;28;43mself\u001b[39;49m\u001b[43m,\u001b[49m\u001b[43m \u001b[49m\u001b[43mgradient\u001b[49m\u001b[43m,\u001b[49m\u001b[43m \u001b[49m\u001b[43mretain_graph\u001b[49m\u001b[43m,\u001b[49m\u001b[43m \u001b[49m\u001b[43mcreate_graph\u001b[49m\u001b[43m,\u001b[49m\u001b[43m \u001b[49m\u001b[43minputs\u001b[49m\u001b[38;5;241;43m=\u001b[39;49m\u001b[43minputs\u001b[49m\n\u001b[1;32m    494\u001b[0m \u001b[43m\u001b[49m\u001b[43m)\u001b[49m\n",
      "File \u001b[0;32m~/python-venvs/mva/lib/python3.10/site-packages/torch/autograd/__init__.py:251\u001b[0m, in \u001b[0;36mbackward\u001b[0;34m(tensors, grad_tensors, retain_graph, create_graph, grad_variables, inputs)\u001b[0m\n\u001b[1;32m    246\u001b[0m     retain_graph \u001b[38;5;241m=\u001b[39m create_graph\n\u001b[1;32m    248\u001b[0m \u001b[38;5;66;03m# The reason we repeat the same comment below is that\u001b[39;00m\n\u001b[1;32m    249\u001b[0m \u001b[38;5;66;03m# some Python versions print out the first line of a multi-line function\u001b[39;00m\n\u001b[1;32m    250\u001b[0m \u001b[38;5;66;03m# calls in the traceback and some print out the last line\u001b[39;00m\n\u001b[0;32m--> 251\u001b[0m \u001b[43mVariable\u001b[49m\u001b[38;5;241;43m.\u001b[39;49m\u001b[43m_execution_engine\u001b[49m\u001b[38;5;241;43m.\u001b[39;49m\u001b[43mrun_backward\u001b[49m\u001b[43m(\u001b[49m\u001b[43m  \u001b[49m\u001b[38;5;66;43;03m# Calls into the C++ engine to run the backward pass\u001b[39;49;00m\n\u001b[1;32m    252\u001b[0m \u001b[43m    \u001b[49m\u001b[43mtensors\u001b[49m\u001b[43m,\u001b[49m\n\u001b[1;32m    253\u001b[0m \u001b[43m    \u001b[49m\u001b[43mgrad_tensors_\u001b[49m\u001b[43m,\u001b[49m\n\u001b[1;32m    254\u001b[0m \u001b[43m    \u001b[49m\u001b[43mretain_graph\u001b[49m\u001b[43m,\u001b[49m\n\u001b[1;32m    255\u001b[0m \u001b[43m    \u001b[49m\u001b[43mcreate_graph\u001b[49m\u001b[43m,\u001b[49m\n\u001b[1;32m    256\u001b[0m \u001b[43m    \u001b[49m\u001b[43minputs\u001b[49m\u001b[43m,\u001b[49m\n\u001b[1;32m    257\u001b[0m \u001b[43m    \u001b[49m\u001b[43mallow_unreachable\u001b[49m\u001b[38;5;241;43m=\u001b[39;49m\u001b[38;5;28;43;01mTrue\u001b[39;49;00m\u001b[43m,\u001b[49m\n\u001b[1;32m    258\u001b[0m \u001b[43m    \u001b[49m\u001b[43maccumulate_grad\u001b[49m\u001b[38;5;241;43m=\u001b[39;49m\u001b[38;5;28;43;01mTrue\u001b[39;49;00m\u001b[43m,\u001b[49m\n\u001b[1;32m    259\u001b[0m \u001b[43m\u001b[49m\u001b[43m)\u001b[49m\n",
      "\u001b[0;31mKeyboardInterrupt\u001b[0m: "
     ]
    }
   ],
   "source": [
    "log_loss = {'train': [] }\n",
    "log_metrics = {'val_auc' : [],\n",
    "               'val_ap' : []}\n",
    "#val_edge_label_index = torch.cat([val_data.pos_edge_label_index, val_data.neg_edge_label_index], dim=1)\n",
    "\n",
    "for epoch in range(num_epochs):\n",
    "\n",
    "    # negative sampling \n",
    "    train_neg_edge_index = negative_sampling(train_data.edge_index, force_undirected=True)\n",
    "    #train_data['edge_label_index'] = torch.cat([train_data.pos_edge_label_index, train_neg_edge_index], dim=1)\n",
    "\n",
    "\n",
    "    kl = kl_div_vmf.apply\n",
    "    \n",
    "    optimizer.zero_grad()\n",
    "    output, mus, kappas, ws, epss, bs = s_vgae(train_data.x.to(device), train_data.edge_index.to(device) )\n",
    "    #kappas = torch.exp(logkappas)\n",
    "    loss = reconstruction_loss(output, train_data.edge_index, train_neg_edge_index, ws, kappas, bs, epss, mus.shape[1]) + kl(kappas, mus) \n",
    "    print(loss)\n",
    "    \n",
    "    loss.backward()\n",
    "\n",
    "    optimizer.step()\n",
    "\n",
    "    with torch.no_grad():\n",
    "        #print('neg sampling ?', train_data.edge_label_index[-10:])\n",
    "        #out_val, mus_val, logkappas_val, _, _, _ = s_vgae(val_data.x.to(device), val_edge_label_index.to(device))\n",
    "        log_loss['train'].append(loss.item())\n",
    "        if epoch % 5 == 0:\n",
    "            #out_val, mus_val, logkappas_val, ws, epss, bs = s_vgae(val_data.x.to(device), val_edge_label_index.to(device))\n",
    "            val_labs, edge_probs_val = get_edge_probs(output, val_data.pos_edge_label_index, val_data.neg_edge_label_index)\n",
    "            log_metrics['val_auc'].append(roc_auc_score(val_labs, edge_probs_val))\n",
    "            log_metrics['val_ap'].append(average_precision_score(val_labs, edge_probs_val))\n",
    "        \n",
    "\n",
    "        if epoch % 10 == 0:\n",
    "            print('Epoch: {:3d}, VAL AUC: {:.4f}'.format(epoch, log_metrics['val_auc'][-1]))\n",
    "            print(f'Epoch {epoch:3d}, TRAIN LOSS: {loss.item():.4f}')\n"
   ]
  },
  {
   "cell_type": "code",
   "execution_count": 73,
   "metadata": {},
   "outputs": [],
   "source": [
    "def plot_curves(log_loss):\n",
    "    fig, ax = plt.subplots()\n",
    "\n",
    "    ax.plot(log_loss['train'], label='train')\n",
    "    ax.set_xlabel('Epoch')\n",
    "    ax.set_ylabel('Loss')\n",
    "    ax.legend()\n",
    "    ax.set_title('Learning curves')\n",
    "\n",
    "    plt.show()  \n",
    "    "
   ]
  },
  {
   "cell_type": "code",
   "execution_count": 74,
   "metadata": {},
   "outputs": [
    {
     "data": {
      "image/png": "[encoded data removed]",
      "text/plain": [
       "<Figure size 640x480 with 1 Axes>"
      ]
     },
     "metadata": {},
     "output_type": "display_data"
    }
   ],
   "source": [
    "plot_curves(log_loss)"
   ]
  },
  {
   "cell_type": "markdown",
   "metadata": {},
   "source": [
    "## Grid search \n",
    "as done in the article "
   ]
  },
  {
   "cell_type": "code",
   "execution_count": null,
   "metadata": {},
   "outputs": [],
   "source": [
    "from itertools import product\n",
    "from pathlib import Path\n",
    "import pickle\n",
    "\n",
    "latent_dim = [8, 16, 32]\n",
    "learning_rates = [.01, .005, .001]\n",
    "\n",
    "results = Path('results')"
   ]
  },
  {
   "cell_type": "code",
   "execution_count": null,
   "metadata": {},
   "outputs": [],
   "source": [
    "for d, lr in product(latent_dim, learning_rates):\n",
    "    metrics =  {\n",
    "        'train_loss' : [],\n",
    "        'val_auc' : [],\n",
    "        'val_ap' : []\n",
    "    }\n",
    "\n",
    "    val_edge_label_index = torch.cat([val_data.pos_edge_label_index, val_data.neg_edge_label_index], dim=1)\n",
    "\n",
    "    for epoch in range(num_epochs):\n",
    "\n",
    "        # negative sampling \n",
    "        train_neg_edge_index = negative_sampling(train_data.pos_edge_label_index)\n",
    "        train_data['edge_label_index'] = torch.cat([train_data.pos_edge_label_index, train_neg_edge_index], dim=1)\n",
    "\n",
    "        kl = kl_div_vmf.apply\n",
    "        \n",
    "        optimizer.zero_grad()\n",
    "        \n",
    "        output, mus, logkappas, ws, epss, bs = s_vgae(train_data.x.to(device), train_data.edge_label_index.to(device) )\n",
    "        kappas = torch.exp(logkappas)\n",
    "        kl_loss = kl(kappas, mus) \n",
    "        loss_recon = reconstruction_loss(output, train_data.pos_edge_label_index, train_neg_edge_index)\n",
    "        loss = loss_recon + kl_loss\n",
    "        # print('loss_recon', loss_recon)  \n",
    "        # print('kl_loss', kl_loss)\n",
    "        # print('loss', loss)\n",
    "        \n",
    "        loss.backward()\n",
    "\n",
    "        optimizer.step()\n",
    "\n",
    "        with torch.no_grad():\n",
    "            metrics['train_loss'].append(loss.item())\n",
    "\n",
    "            out_val, mus_val, logkappas_val, ws, epss, bs = s_vgae(val_data.x.to(device), val_edge_label_index.to(device))\n",
    "            val_labs, edge_probs_val = get_edge_probs(out_val, val_data.pos_edge_label_index, val_data.neg_edge_label_index)\n",
    "            metrics['val_auc'].append(roc_auc_score(val_labs, edge_probs_val))\n",
    "            metrics['val_ap'].append(average_precision_score(val_labs, edge_probs_val))\n",
    "            \n",
    "            if epoch % 10 == 0:\n",
    "                print('Epoch: {:3d}, VAL AUC: {:.4f}'.format(epoch, log_metrics['val_auc'][-1]))\n",
    "                print(f'Epoch {epoch:3d}, TRAIN LOSS: {loss.item():.4f}')\n",
    "\n",
    "\n",
    "with open(results / f's_vgae_dim{d}_lr{lr}.pkl', 'wb') as f:\n",
    "    pickle.dump(metrics, f)\n"
   ]
  }
 ],
 "metadata": {
  "kernelspec": {
   "display_name": ".venv",
   "language": "python",
   "name": "python3"
  },
  "language_info": {
   "codemirror_mode": {
    "name": "ipython",
    "version": 3
   },
   "file_extension": ".py",
   "mimetype": "text/x-python",
   "name": "python",
   "nbconvert_exporter": "python",
   "pygments_lexer": "ipython3",
   "version": "3.10.12"
  }
 },
 "nbformat": 4,
 "nbformat_minor": 2
}
