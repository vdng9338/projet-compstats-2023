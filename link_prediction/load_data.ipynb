{
 "cells": [
  {
   "cell_type": "markdown",
   "metadata": {},
   "source": [
    "# Load Cora dataset"
   ]
  },
  {
   "cell_type": "code",
   "execution_count": 3,
   "metadata": {},
   "outputs": [],
   "source": [
    "from torch_geometric import datasets\n",
    "import networkx as nx\n",
    "import matplotlib.pyplot as plt"
   ]
  },
  {
   "cell_type": "code",
   "execution_count": null,
   "metadata": {},
   "outputs": [],
   "source": [
    "def draw_weighted_graph(G: nx.Graph, node_features: dict = None, fname: str = None):\n",
    "    fig = plt.figure() # figsize=(8, 8)\n",
    "\n",
    "    # ---Visualization \n",
    "    pos = nx.spring_layout(G, seed=7) # positions for all nodes - seed for reproducibility\n",
    "    nx.draw_networkx_nodes(G, pos, node_size=700) # nodes\n",
    "    nx.draw_networkx_edges(G, pos, width=6) # edges\n",
    "\n",
    "    # node feature\n",
    "    if node_features is None:\n",
    "        node_features = nx.get_node_attributes(G, \"feat\")\n",
    "        node_features = {idx: f\"{idx:d}\" for idx, val in node_features.items()}\n",
    "    # print('node_features', node_features)\n",
    "    nx.draw_networkx_labels(G, pos, labels=node_features) #font_size=20, font_family=\"sans-serif\") # node labels\n",
    "    \n",
    "    # edge weight labels\n",
    "    edge_weights = nx.get_edge_attributes(G, \"weight\")\n",
    "    nx.draw_networkx_edge_labels(G, pos, edge_weights)\n",
    "\n",
    "    ax = plt.gca() # to get the current axis\n",
    "    ax.margins(0.08) # to avoid the nodes being clipped\n",
    "    plt.axis(\"off\") # to turn of the axis\n",
    "    plt.tight_layout() # to make sure nothing gets clipped"
   ]
  },
  {
   "cell_type": "code",
   "execution_count": 4,
   "metadata": {},
   "outputs": [
    {
     "name": "stderr",
     "output_type": "stream",
     "text": [
      "Downloading https://github.com/kimiyoung/planetoid/raw/master/data/ind.cora.x\n",
      "Downloading https://github.com/kimiyoung/planetoid/raw/master/data/ind.cora.tx\n",
      "Downloading https://github.com/kimiyoung/planetoid/raw/master/data/ind.cora.allx\n",
      "Downloading https://github.com/kimiyoung/planetoid/raw/master/data/ind.cora.y\n",
      "Downloading https://github.com/kimiyoung/planetoid/raw/master/data/ind.cora.ty\n",
      "Downloading https://github.com/kimiyoung/planetoid/raw/master/data/ind.cora.ally\n",
      "Downloading https://github.com/kimiyoung/planetoid/raw/master/data/ind.cora.graph\n",
      "Downloading https://github.com/kimiyoung/planetoid/raw/master/data/ind.cora.test.index\n",
      "Processing...\n"
     ]
    },
    {
     "name": "stdout",
     "output_type": "stream",
     "text": [
      "Data(x=[2708, 1433], edge_index=[2, 10556], y=[2708], train_mask=[2708], val_mask=[2708], test_mask=[2708])\n",
      "1\n",
      "7\n"
     ]
    },
    {
     "name": "stderr",
     "output_type": "stream",
     "text": [
      "Done!\n"
     ]
    }
   ],
   "source": [
    "dataset = datasets.Planetoid(root='/__data/Cora', name='Cora', split='public')\n",
    "print(dataset[0])\n",
    "print(dataset.data.is_undirected())\n",
    "print(dataset.num_classes)"
   ]
  },
  {
   "cell_type": "markdown",
   "metadata": {},
   "source": [
    "- dataset.x :  Node feature matrix (Nb_nodes, nb_features)\n",
    "- dataset.edge_index : graph connectivity (2, Nb_edges) with type torch.long , and, here, value between 0 and Nb_nodes-1\n",
    "- dataset.y : target to train (Nb_nodes) \n",
    "- dataset.pos : node position matrix with shape [num_nodes, num_dimensions]\n",
    "- train_mask, val_mask, test_mask : Mask of values of dataset used for training, validation, testing respectively"
   ]
  },
  {
   "cell_type": "code",
   "execution_count": 16,
   "metadata": {},
   "outputs": [
    {
     "name": "stdout",
     "output_type": "stream",
     "text": [
      "torch.Size([2708])\n"
     ]
    },
    {
     "data": {
      "text/plain": [
       "tensor([[   0,    0,    0,  ..., 2707, 2707, 2707],\n",
       "        [ 633, 1862, 2582,  ...,  598, 1473, 2706]])"
      ]
     },
     "execution_count": 16,
     "metadata": {},
     "output_type": "execute_result"
    }
   ],
   "source": [
    "train_mask = dataset.train_mask\n",
    "print(train_mask.shape)\n",
    "#dataset.x[train_mask, :]\n",
    "dataset.edge_index"
   ]
  },
  {
   "cell_type": "markdown",
   "metadata": {},
   "source": []
  }
 ],
 "metadata": {
  "kernelspec": {
   "display_name": ".venv",
   "language": "python",
   "name": "python3"
  },
  "language_info": {
   "codemirror_mode": {
    "name": "ipython",
    "version": 3
   },
   "file_extension": ".py",
   "mimetype": "text/x-python",
   "name": "python",
   "nbconvert_exporter": "python",
   "pygments_lexer": "ipython3",
   "version": "3.10.0"
  }
 },
 "nbformat": 4,
 "nbformat_minor": 2
}
